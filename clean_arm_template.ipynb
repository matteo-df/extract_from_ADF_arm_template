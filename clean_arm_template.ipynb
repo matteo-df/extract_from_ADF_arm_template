{
 "cells": [
  {
   "cell_type": "code",
   "execution_count": null,
   "metadata": {},
   "outputs": [],
   "source": [
    "import json"
   ]
  },
  {
   "attachments": {},
   "cell_type": "markdown",
   "metadata": {},
   "source": [
    "## Extract Pipelines from a complete ARM Template"
   ]
  },
  {
   "attachments": {},
   "cell_type": "markdown",
   "metadata": {},
   "source": [
    "### Add to the list the **main pipeline** names to be extracted from the ARM Template\n",
    "\n",
    "Any additional pipeline invoked from the main pipelines and all the dependencies (linked services, datasets, integration runtimes ecc..) are automatically detected and mantained in the ARM Template"
   ]
  },
  {
   "cell_type": "code",
   "execution_count": null,
   "metadata": {},
   "outputs": [],
   "source": [
    "pipelines_to_keep_list = ['']"
   ]
  },
  {
   "cell_type": "code",
   "execution_count": null,
   "metadata": {},
   "outputs": [],
   "source": [
    "triggers_to_keep_list = []"
   ]
  },
  {
   "attachments": {},
   "cell_type": "markdown",
   "metadata": {},
   "source": [
    "### Add to the list the **Private Endpoint names** used by the ARM Template resources\n",
    "In case no Private Endpoint is needed, leave the list as empty"
   ]
  },
  {
   "cell_type": "code",
   "execution_count": null,
   "metadata": {},
   "outputs": [],
   "source": [
    "private_endpoints = []"
   ]
  },
  {
   "attachments": {},
   "cell_type": "markdown",
   "metadata": {},
   "source": [
    "### Define input and output path for the ARM Templates"
   ]
  },
  {
   "cell_type": "code",
   "execution_count": null,
   "metadata": {},
   "outputs": [],
   "source": [
    "arm_input_json_file = 'ARMTemplateForFactory.json'\n",
    "arm_parameters_input_json_file = 'ARMTemplateParametersForFactory.json'\n",
    "\n",
    "arm_output_json_file = 'arm_template.json'\n",
    "arm_parameters_output_json_file = 'arm_template_parameters.json'"
   ]
  },
  {
   "attachments": {},
   "cell_type": "markdown",
   "metadata": {},
   "source": [
    "## Creation of the new ARM Templates"
   ]
  },
  {
   "attachments": {},
   "cell_type": "markdown",
   "metadata": {},
   "source": [
    "Defined lists that will contain the reources to keep"
   ]
  },
  {
   "cell_type": "code",
   "execution_count": null,
   "metadata": {},
   "outputs": [],
   "source": [
    "# create a list with the names as found in the ARM Template\n",
    "dependencies = [f\"[concat(parameters('factoryName'), '/{pipeline}')]\" for pipeline in pipelines_to_keep_list]\n",
    "dependencies += [f"[concat(parameters('factoryName'), '/{trigger}')]" for trigger in triggers_to_keep_list]\n",
    "dependencies += [f\"[concat(parameters('factoryName'), '/default/{pe}')]\" for pe in private_endpoints]\n",
    "\n",
    "# create a list which will contain all the maintened resources (the list 'dependencies' will be cleared at each step)\n",
    "all_dependencies = dependencies.copy()\n",
    "\n",
    "# create a list with the full resources (as dictionaries) to keep in the ARM Template\n",
    "resources_to_keep = []"
   ]
  },
  {
   "attachments": {},
   "cell_type": "markdown",
   "metadata": {},
   "source": [
    "Define some useful functions to handle the resource names of the ARM Templates"
   ]
  },
  {
   "cell_type": "code",
   "execution_count": null,
   "metadata": {},
   "outputs": [],
   "source": [
    "def just_resource_name(resource):\n",
    "    return resource.split(', ')[-1].split('/')[-1][:-3]\n",
    "\n",
    "def name_from_depend(depend):\n",
    "    return f\"[concat(parameters('factoryName'), '/{just_resource_name(depend)}')]\""
   ]
  },
  {
   "attachments": {},
   "cell_type": "markdown",
   "metadata": {},
   "source": [
    "### Load the ARM Template json file as a dict"
   ]
  },
  {
   "cell_type": "code",
   "execution_count": null,
   "metadata": {},
   "outputs": [],
   "source": [
    "with open(arm_input_json_file) as json_file:\n",
    "    arm_from_json = json.load(json_file)"
   ]
  },
  {
   "attachments": {},
   "cell_type": "markdown",
   "metadata": {},
   "source": [
    "### Extraxt the 'resources' from the ARM Template based on the main pipelines indicated in the first step"
   ]
  },
  {
   "cell_type": "code",
   "execution_count": null,
   "metadata": {},
   "outputs": [],
   "source": [
    "print(\"\\n### RESOURCES ###\\n\")\n",
    "\n",
    "resources = arm_from_json['resources']\n",
    "\n",
    "while len(dependencies) > 0:\n",
    "    new_dependencies = []\n",
    "\n",
    "    for resource in resources:\n",
    "        if resource['name'] in dependencies:\n",
    "            tmp_dependencies = [name_from_depend(depend) for depend in resource['dependsOn'] if name_from_depend(depend) not in all_dependencies]\n",
    "            new_dependencies += tmp_dependencies\n",
    "            resources_to_keep.append(resource)\n",
    "            print(f\"\\n{len(resources_to_keep)} - '{just_resource_name(resource['name'])}' - added to the resources to keep\")\n",
    "            # uncomment to print the new dependencies found from each resource\n",
    "            # if len(tmp_dependencies) > 0:\n",
    "            #     for i, depend in enumerate(set(tmp_dependencies)):\n",
    "            #         print(f\"\\t{i+1} - '{just_resource_name(depend)}' added as new dependence\")\n",
    "            # else:\n",
    "            #     print(\"\\t- No new dependence found\")\n",
    "\n",
    "    dependencies.clear()\n",
    "    dependencies += set(new_dependencies)\n",
    "    all_dependencies += set(new_dependencies)"
   ]
  },
  {
   "attachments": {},
   "cell_type": "markdown",
   "metadata": {},
   "source": [
    "### Load the ARM Template Parameters json file as a dict"
   ]
  },
  {
   "cell_type": "code",
   "execution_count": null,
   "metadata": {},
   "outputs": [],
   "source": [
    "with open(arm_parameters_input_json_file) as json_file:\n",
    "    arm_param_from_json = json.load(json_file)"
   ]
  },
  {
   "attachments": {},
   "cell_type": "markdown",
   "metadata": {},
   "source": [
    "### Extraxt the 'parameters' from the ARM Templates based on the main pipelines and Private Endpoints indicated in the first step"
   ]
  },
  {
   "cell_type": "code",
   "execution_count": null,
   "metadata": {},
   "outputs": [],
   "source": [
    "print(\"\\n### PARAMETERS ###\\n\")\n",
    "\n",
    "parameters_from_arm_param = arm_param_from_json['parameters']\n",
    "parameters_from_arm = arm_from_json['parameters']\n",
    "\n",
    "params_arm_params_to_keep = {'factoryName':parameters_from_arm_param['factoryName']}\n",
    "params_arm_to_keep = {'factoryName':parameters_from_arm['factoryName']}\n",
    "\n",
    "for resource in resources_to_keep:\n",
    "    new_params = [param for param in parameters_from_arm_param if just_resource_name(resource['name']) in param]\n",
    "    new_params_arm_param = {param:parameters_from_arm_param[param] for param in new_params}\n",
    "    new_params_arm = {param:parameters_from_arm[param] for param in new_params}\n",
    "    if len(new_params) > 0:\n",
    "        print(\"\\n\".join([f\"{i+len(params_arm_params_to_keep)} - '{param}' - added to the parameters to keep\" for i,param in enumerate(new_params)]))\n",
    "        params_arm_params_to_keep.update(new_params_arm_param)\n",
    "        params_arm_to_keep.update(new_params_arm)"
   ]
  },
  {
   "attachments": {},
   "cell_type": "markdown",
   "metadata": {},
   "source": [
    "### Recreate the ARM Template and ARM Template Parameters as dicts\n",
    "Some parts are taken from the original ARM Templates, 'parameters' and 'resources' are taken from the previous steps"
   ]
  },
  {
   "cell_type": "code",
   "execution_count": null,
   "metadata": {},
   "outputs": [],
   "source": [
    "arm_template = {\"$schema\": arm_from_json[\"$schema\"],\n",
    "                \"contentVersion\": arm_from_json[\"contentVersion\"],\n",
    "                \"parameters\": params_arm_to_keep,\n",
    "                \"variables\": arm_from_json[\"variables\"],\n",
    "                \"resources\": resources_to_keep,\n",
    "                }\n",
    "\n",
    "arm_params_template = {\"$schema\": arm_from_json[\"$schema\"],\n",
    "                       \"contentVersion\": arm_from_json[\"contentVersion\"],\n",
    "                       \"parameters\": params_arm_params_to_keep,\n",
    "                      }"
   ]
  },
  {
   "attachments": {},
   "cell_type": "markdown",
   "metadata": {},
   "source": [
    "### Save the two ARM dicts as json files"
   ]
  },
  {
   "cell_type": "code",
   "execution_count": null,
   "metadata": {},
   "outputs": [],
   "source": [
    "with open(arm_output_json_file, \"w\") as outfile:\n",
    "    json.dump(arm_template, outfile)\n",
    "    print(f\"\\n## ARM TEMPLATE SAVED AS {arm_output_json_file} ##\")\n",
    "\n",
    "with open(arm_parameters_output_json_file, \"w\") as outfile:\n",
    "    json.dump(arm_params_template, outfile)\n",
    "    print(f\"\\n## ARM TEMPLATE PARAMETERS SAVED AS {arm_parameters_output_json_file} ##\\n\")"
   ]
  }
 ],
 "metadata": {
  "kernelspec": {
   "display_name": "Python 3",
   "language": "python",
   "name": "python3"
  },
  "language_info": {
   "codemirror_mode": {
    "name": "ipython",
    "version": 3
   },
   "file_extension": ".py",
   "mimetype": "text/x-python",
   "name": "python",
   "nbconvert_exporter": "python",
   "pygments_lexer": "ipython3",
   "version": "3.11.1"
  },
  "orig_nbformat": 4,
  "vscode": {
   "interpreter": {
    "hash": "a64ba912afbc53802bc6e73ffd82b6fd7cf840cff719c048352c5e71486fecef"
   }
  }
 },
 "nbformat": 4,
 "nbformat_minor": 2
}
